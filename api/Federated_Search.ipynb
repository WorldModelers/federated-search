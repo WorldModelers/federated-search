{
 "cells": [
  {
   "cell_type": "markdown",
   "metadata": {},
   "source": [
    "## Federated Search\n",
    "\n",
    "#### This notebook presents backend functionality to access the ISI, NYU, and UAZ's APIs.\n",
    "\n",
    "#### Built in swagger, the endpoints are:\n",
    "\n",
    "#### For ISI and NYU:\n",
    "\n",
    "#### `/search`\n",
    "#### `/metadata/{data_location}/{id_value}`\n",
    "#### `/download/{data_location}/{id_value}`\n",
    "\n",
    "####  For UAZ:\n",
    "#### `/search_concepts/{concept_name}`\n",
    "\n",
    "#### To run the swagger UI (jupyter-free) go to the [Federated Search](https://github.com/WorldModelers/federated-search) repository and follow the README instructions. \n",
    "\n",
    "#### Below is a walk-thru of each endpoint. For all but `/download/`, we cover: generating schema-compliant searches, calling the APIs, and returning schema-compliant search results.\n",
    "\n",
    "#### Each API has different schemas and API structures, so for each endpoint ISI and NYU are seperated into sections.\n"
   ]
  },
  {
   "cell_type": "markdown",
   "metadata": {},
   "source": [
    "## 1. Search: \n",
    "### Search APIs for: keywords and/or apply time and geospatial filters\n",
    "    \n",
    "### endpoint: `/search`\n",
    "    "
   ]
  },
  {
   "cell_type": "markdown",
   "metadata": {},
   "source": [
    "### 1.a NYU Search"
   ]
  },
  {
   "cell_type": "code",
   "execution_count": null,
   "metadata": {},
   "outputs": [],
   "source": []
  },
  {
   "cell_type": "markdown",
   "metadata": {},
   "source": [
    "### 1.b ISI Metadata Search"
   ]
  },
  {
   "cell_type": "code",
   "execution_count": null,
   "metadata": {},
   "outputs": [],
   "source": []
  },
  {
   "cell_type": "markdown",
   "metadata": {},
   "source": [
    "## 2. Metadata Search:\n",
    "### Search APIs for metadata with known API and dataset ID\n",
    "\n",
    "### endpoint: `/metadata/{data_location}/{id_value}`"
   ]
  },
  {
   "cell_type": "markdown",
   "metadata": {},
   "source": [
    "### 2.a NYU Metadata Search"
   ]
  },
  {
   "cell_type": "code",
   "execution_count": null,
   "metadata": {},
   "outputs": [],
   "source": []
  },
  {
   "cell_type": "markdown",
   "metadata": {},
   "source": [
    "### 2.b ISI Metadata Search"
   ]
  },
  {
   "cell_type": "code",
   "execution_count": null,
   "metadata": {},
   "outputs": [],
   "source": []
  },
  {
   "cell_type": "markdown",
   "metadata": {},
   "source": [
    "## 3. Download Dataset\n",
    "### Download datasets with known API and dataset ID\n",
    "\n",
    "### `/download/{data_location}/{id_value}`"
   ]
  },
  {
   "cell_type": "markdown",
   "metadata": {},
   "source": [
    "### 3.a NYU Dataset Download"
   ]
  },
  {
   "cell_type": "code",
   "execution_count": null,
   "metadata": {},
   "outputs": [],
   "source": []
  },
  {
   "cell_type": "markdown",
   "metadata": {},
   "source": [
    "### 3.b ISI Dataset Download"
   ]
  },
  {
   "cell_type": "code",
   "execution_count": null,
   "metadata": {},
   "outputs": [],
   "source": []
  },
  {
   "cell_type": "code",
   "execution_count": null,
   "metadata": {},
   "outputs": [],
   "source": []
  },
  {
   "cell_type": "code",
   "execution_count": null,
   "metadata": {},
   "outputs": [],
   "source": []
  }
 ],
 "metadata": {
  "kernelspec": {
   "display_name": "Python 3",
   "language": "python",
   "name": "python3"
  },
  "language_info": {
   "codemirror_mode": {
    "name": "ipython",
    "version": 3
   },
   "file_extension": ".py",
   "mimetype": "text/x-python",
   "name": "python",
   "nbconvert_exporter": "python",
   "pygments_lexer": "ipython3",
   "version": "3.7.7"
  }
 },
 "nbformat": 4,
 "nbformat_minor": 4
}
